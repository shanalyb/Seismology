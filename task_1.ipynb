{
 "cells": [
  {
   "cell_type": "code",
   "execution_count": 1,
   "metadata": {},
   "outputs": [
    {
     "data": {
      "text/html": [
       "    <script type=\"text/javascript\">\n",
       "        requirejs([\"https://cdn.plot.ly/plotly-latest.min.js\"], function(p) {\n",
       "            window.Plotly = p\n",
       "        });\n",
       "    </script>\n"
      ]
     },
     "metadata": {},
     "output_type": "display_data"
    },
    {
     "data": {
      "application/vnd.plotly.v1+json": {
       "data": [
        {
         "colorbar": {
          "title": ""
         },
         "hoverinfo": "text",
         "legendgroup": "y1",
         "line": {
          "color": "rgba(0, 154, 250, 1.000)",
          "dash": "solid",
          "shape": "linear",
          "width": 1
         },
         "mode": "lines",
         "name": "y1",
         "showlegend": true,
         "text": [
          null,
          null,
          null,
          null,
          null,
          null,
          null,
          null,
          null,
          null,
          null,
          null,
          null,
          null,
          null
         ],
         "type": "scatter",
         "x": [
          1.3,
          1.3428571428571427,
          1.3857142857142857,
          1.4285714285714286,
          1.4714285714285715,
          1.5142857142857142,
          1.5571428571428572,
          1.6,
          1.6428571428571428,
          1.6857142857142857,
          1.7285714285714286,
          1.7714285714285714,
          1.8142857142857143,
          1.8571428571428572,
          1.9
         ],
         "xaxis": "x1",
         "y": [
          0.35323510982069006,
          0.418517043543865,
          0.4650393804035542,
          0.4922628982221995,
          0.4998720598718349,
          0.4877786705412992,
          0.45612289996773514,
          0.405271657784088,
          0.33581434081331896,
          0.2485560016007866,
          0.14450801736559193,
          0.024876367523592124,
          -0.10895234434751133,
          -0.2554269620869126,
          -0.41284975579396943
         ],
         "yaxis": "y1",
         "zmax": 0.1,
         "zmin": -0.1
        }
       ],
       "layout": {
        "annotations": [],
        "height": 400,
        "legend": {
         "bgcolor": "rgba(255, 255, 255, 1.000)",
         "bordercolor": "rgba(0, 0, 0, 1.000)",
         "font": {
          "color": "rgba(0, 0, 0, 1.000)",
          "family": "sans-serif",
          "size": 11
         },
         "tracegroupgap": 0,
         "x": 1,
         "y": 1
        },
        "margin": {
         "b": 20,
         "l": 0,
         "r": 0,
         "t": 20
        },
        "paper_bgcolor": "rgba(255, 255, 255, 1.000)",
        "plot_bgcolor": "rgba(255, 255, 255, 1.000)",
        "showlegend": true,
        "width": 600,
        "xaxis": {
         "anchor": "y1",
         "domain": [
          0.09128390201224845,
          0.9934383202099738
         ],
         "gridcolor": "rgba(0, 0, 0, 0.100)",
         "gridwidth": 0.5,
         "linecolor": "rgba(0, 0, 0, 1.000)",
         "mirror": false,
         "range": [
          1.282,
          1.918
         ],
         "showgrid": true,
         "showline": true,
         "showticklabels": true,
         "tickangle": 0,
         "tickcolor": "rgb(0, 0, 0)",
         "tickfont": {
          "color": "rgba(0, 0, 0, 1.000)",
          "family": "sans-serif",
          "size": 11
         },
         "tickmode": "array",
         "ticks": "inside",
         "ticktext": [
          "1.3",
          "1.4",
          "1.5",
          "1.6",
          "1.7",
          "1.8",
          "1.9"
         ],
         "tickvals": [
          1.3,
          1.4,
          1.5,
          1.6,
          1.7,
          1.8,
          1.9
         ],
         "title": "t, sec",
         "titlefont": {
          "color": "rgba(0, 0, 0, 1.000)",
          "family": "sans-serif",
          "size": 15
         },
         "type": "-",
         "visible": true,
         "zeroline": false,
         "zerolinecolor": "rgba(0, 0, 0, 1.000)"
        },
        "yaxis": {
         "anchor": "x1",
         "domain": [
          0.07581474190726165,
          0.9901574803149606
         ],
         "gridcolor": "rgba(0, 0, 0, 0.100)",
         "gridwidth": 0.5,
         "linecolor": "rgba(0, 0, 0, 1.000)",
         "mirror": false,
         "range": [
          -0.4402314102639436,
          0.527253714341809
         ],
         "showgrid": true,
         "showline": true,
         "showticklabels": true,
         "tickangle": 0,
         "tickcolor": "rgb(0, 0, 0)",
         "tickfont": {
          "color": "rgba(0, 0, 0, 1.000)",
          "family": "sans-serif",
          "size": 11
         },
         "tickmode": "array",
         "ticks": "inside",
         "ticktext": [
          "-0.4",
          "-0.2",
          "0.0",
          "0.2",
          "0.4"
         ],
         "tickvals": [
          -0.4,
          -0.2,
          0,
          0.2,
          0.4
         ],
         "title": "y",
         "titlefont": {
          "color": "rgba(0, 0, 0, 1.000)",
          "family": "sans-serif",
          "size": 15
         },
         "type": "-",
         "visible": true,
         "zeroline": false,
         "zerolinecolor": "rgba(0, 0, 0, 1.000)"
        }
       }
      },
      "text/html": [
       "<!DOCTYPE html>\n",
       "<html>\n",
       "    <head>\n",
       "        <title>Plots.jl</title>\n",
       "        <meta http-equiv=\"content-type\" content=\"text/html; charset=UTF-8\">\n",
       "        <script src=\"https://cdn.plot.ly/plotly-latest.min.js\"></script>\n",
       "    </head>\n",
       "    <body>\n",
       "            <div id=\"93526150-7134-488c-bc58-bd7645b4044f\" style=\"width:600px;height:400px;\"></div>\n",
       "    <script>\n",
       "    PLOT = document.getElementById('93526150-7134-488c-bc58-bd7645b4044f');\n",
       "    Plotly.plot(PLOT, [\n",
       "    {\n",
       "        \"xaxis\": \"x1\",\n",
       "        \"colorbar\": {\n",
       "            \"title\": \"\"\n",
       "        },\n",
       "        \"yaxis\": \"y1\",\n",
       "        \"text\": [\n",
       "            null,\n",
       "            null,\n",
       "            null,\n",
       "            null,\n",
       "            null,\n",
       "            null,\n",
       "            null,\n",
       "            null,\n",
       "            null,\n",
       "            null,\n",
       "            null,\n",
       "            null,\n",
       "            null,\n",
       "            null,\n",
       "            null\n",
       "        ],\n",
       "        \"x\": [\n",
       "            1.3,\n",
       "            1.3428571428571427,\n",
       "            1.3857142857142857,\n",
       "            1.4285714285714286,\n",
       "            1.4714285714285715,\n",
       "            1.5142857142857142,\n",
       "            1.5571428571428572,\n",
       "            1.6,\n",
       "            1.6428571428571428,\n",
       "            1.6857142857142857,\n",
       "            1.7285714285714286,\n",
       "            1.7714285714285714,\n",
       "            1.8142857142857143,\n",
       "            1.8571428571428572,\n",
       "            1.9\n",
       "        ],\n",
       "        \"showlegend\": true,\n",
       "        \"mode\": \"lines\",\n",
       "        \"name\": \"y1\",\n",
       "        \"zmin\": -0.1,\n",
       "        \"legendgroup\": \"y1\",\n",
       "        \"zmax\": 0.1,\n",
       "        \"line\": {\n",
       "            \"color\": \"rgba(0, 154, 250, 1.000)\",\n",
       "            \"shape\": \"linear\",\n",
       "            \"dash\": \"solid\",\n",
       "            \"width\": 1\n",
       "        },\n",
       "        \"y\": [\n",
       "            0.35323510982069006,\n",
       "            0.418517043543865,\n",
       "            0.4650393804035542,\n",
       "            0.4922628982221995,\n",
       "            0.4998720598718349,\n",
       "            0.4877786705412992,\n",
       "            0.45612289996773514,\n",
       "            0.405271657784088,\n",
       "            0.33581434081331896,\n",
       "            0.2485560016007866,\n",
       "            0.14450801736559193,\n",
       "            0.024876367523592124,\n",
       "            -0.10895234434751133,\n",
       "            -0.2554269620869126,\n",
       "            -0.41284975579396943\n",
       "        ],\n",
       "        \"type\": \"scatter\",\n",
       "        \"hoverinfo\": \"text\"\n",
       "    }\n",
       "]\n",
       ", {\n",
       "    \"showlegend\": true,\n",
       "    \"xaxis\": {\n",
       "        \"showticklabels\": true,\n",
       "        \"gridwidth\": 0.5,\n",
       "        \"tickvals\": [\n",
       "            1.3,\n",
       "            1.4,\n",
       "            1.5,\n",
       "            1.6,\n",
       "            1.7,\n",
       "            1.8,\n",
       "            1.9\n",
       "        ],\n",
       "        \"visible\": true,\n",
       "        \"ticks\": \"inside\",\n",
       "        \"range\": [\n",
       "            1.282,\n",
       "            1.918\n",
       "        ],\n",
       "        \"domain\": [\n",
       "            0.09128390201224845,\n",
       "            0.9934383202099738\n",
       "        ],\n",
       "        \"tickmode\": \"array\",\n",
       "        \"linecolor\": \"rgba(0, 0, 0, 1.000)\",\n",
       "        \"showgrid\": true,\n",
       "        \"title\": \"t, sec\",\n",
       "        \"mirror\": false,\n",
       "        \"tickangle\": 0,\n",
       "        \"showline\": true,\n",
       "        \"gridcolor\": \"rgba(0, 0, 0, 0.100)\",\n",
       "        \"titlefont\": {\n",
       "            \"color\": \"rgba(0, 0, 0, 1.000)\",\n",
       "            \"family\": \"sans-serif\",\n",
       "            \"size\": 15\n",
       "        },\n",
       "        \"tickcolor\": \"rgb(0, 0, 0)\",\n",
       "        \"ticktext\": [\n",
       "            \"1.3\",\n",
       "            \"1.4\",\n",
       "            \"1.5\",\n",
       "            \"1.6\",\n",
       "            \"1.7\",\n",
       "            \"1.8\",\n",
       "            \"1.9\"\n",
       "        ],\n",
       "        \"zeroline\": false,\n",
       "        \"type\": \"-\",\n",
       "        \"tickfont\": {\n",
       "            \"color\": \"rgba(0, 0, 0, 1.000)\",\n",
       "            \"family\": \"sans-serif\",\n",
       "            \"size\": 11\n",
       "        },\n",
       "        \"zerolinecolor\": \"rgba(0, 0, 0, 1.000)\",\n",
       "        \"anchor\": \"y1\"\n",
       "    },\n",
       "    \"paper_bgcolor\": \"rgba(255, 255, 255, 1.000)\",\n",
       "    \"annotations\": [],\n",
       "    \"height\": 400,\n",
       "    \"margin\": {\n",
       "        \"l\": 0,\n",
       "        \"b\": 20,\n",
       "        \"r\": 0,\n",
       "        \"t\": 20\n",
       "    },\n",
       "    \"plot_bgcolor\": \"rgba(255, 255, 255, 1.000)\",\n",
       "    \"yaxis\": {\n",
       "        \"showticklabels\": true,\n",
       "        \"gridwidth\": 0.5,\n",
       "        \"tickvals\": [\n",
       "            -0.4,\n",
       "            -0.2,\n",
       "            0.0,\n",
       "            0.2,\n",
       "            0.4\n",
       "        ],\n",
       "        \"visible\": true,\n",
       "        \"ticks\": \"inside\",\n",
       "        \"range\": [\n",
       "            -0.4402314102639436,\n",
       "            0.527253714341809\n",
       "        ],\n",
       "        \"domain\": [\n",
       "            0.07581474190726165,\n",
       "            0.9901574803149606\n",
       "        ],\n",
       "        \"tickmode\": \"array\",\n",
       "        \"linecolor\": \"rgba(0, 0, 0, 1.000)\",\n",
       "        \"showgrid\": true,\n",
       "        \"title\": \"y\",\n",
       "        \"mirror\": false,\n",
       "        \"tickangle\": 0,\n",
       "        \"showline\": true,\n",
       "        \"gridcolor\": \"rgba(0, 0, 0, 0.100)\",\n",
       "        \"titlefont\": {\n",
       "            \"color\": \"rgba(0, 0, 0, 1.000)\",\n",
       "            \"family\": \"sans-serif\",\n",
       "            \"size\": 15\n",
       "        },\n",
       "        \"tickcolor\": \"rgb(0, 0, 0)\",\n",
       "        \"ticktext\": [\n",
       "            \"-0.4\",\n",
       "            \"-0.2\",\n",
       "            \"0.0\",\n",
       "            \"0.2\",\n",
       "            \"0.4\"\n",
       "        ],\n",
       "        \"zeroline\": false,\n",
       "        \"type\": \"-\",\n",
       "        \"tickfont\": {\n",
       "            \"color\": \"rgba(0, 0, 0, 1.000)\",\n",
       "            \"family\": \"sans-serif\",\n",
       "            \"size\": 11\n",
       "        },\n",
       "        \"zerolinecolor\": \"rgba(0, 0, 0, 1.000)\",\n",
       "        \"anchor\": \"x1\"\n",
       "    },\n",
       "    \"legend\": {\n",
       "        \"tracegroupgap\": 0,\n",
       "        \"bordercolor\": \"rgba(0, 0, 0, 1.000)\",\n",
       "        \"bgcolor\": \"rgba(255, 255, 255, 1.000)\",\n",
       "        \"font\": {\n",
       "            \"color\": \"rgba(0, 0, 0, 1.000)\",\n",
       "            \"family\": \"sans-serif\",\n",
       "            \"size\": 11\n",
       "        },\n",
       "        \"y\": 1.0,\n",
       "        \"x\": 1.0\n",
       "    },\n",
       "    \"width\": 600\n",
       "}\n",
       ");\n",
       "    </script>\n",
       "\n",
       "    </body>\n",
       "</html>\n"
      ]
     },
     "metadata": {},
     "output_type": "display_data"
    }
   ],
   "source": [
    "using Plots\n",
    "\n",
    "x = range(1.3, stop = 1.9, length = 15)\n",
    "y = 1.7 * sin.(2 * pi * 0.4 * x .+ 67.0) .- 1.2\n",
    "\n",
    "plotly()\n",
    "fig = plot(x, y)\n",
    "xlabel!(\"t, sec\")\n",
    "ylabel!(\"y\")\n",
    "display(fig)"
   ]
  },
  {
   "cell_type": "markdown",
   "metadata": {},
   "source": [
    "Ряд t, численные значения (в секундах):"
   ]
  },
  {
   "cell_type": "code",
   "execution_count": 2,
   "metadata": {},
   "outputs": [
    {
     "name": "stdout",
     "output_type": "stream",
     "text": [
      "t= 1.3 1.3428571428571427 1.3857142857142857 1.4285714285714286 1.4714285714285715 1.5142857142857142 1.5571428571428572 1.6 1.6428571428571428 1.6857142857142857 1.7285714285714286 1.7714285714285714 1.8142857142857143 1.8571428571428572 1.9 "
     ]
    }
   ],
   "source": [
    "print(\"t= \")\n",
    "for x in range(1.3, stop = 1.9, length = 15)\n",
    "    print(x, \" \")\n",
    "end"
   ]
  },
  {
   "cell_type": "markdown",
   "metadata": {},
   "source": [
    "Ряд y, численные значения (безразмерные):"
   ]
  },
  {
   "cell_type": "code",
   "execution_count": 3,
   "metadata": {},
   "outputs": [
    {
     "name": "stdout",
     "output_type": "stream",
     "text": [
      "y= [0.35323510982069006, 0.418517043543865, 0.4650393804035542, 0.4922628982221995, 0.4998720598718349, 0.4877786705412992, 0.45612289996773514, 0.405271657784088, 0.33581434081331896, 0.2485560016007866, 0.14450801736559193, 0.024876367523592124, -0.10895234434751133, -0.2554269620869126, -0.41284975579396943]\n"
     ]
    }
   ],
   "source": [
    "println(\"y= \", y)"
   ]
  },
  {
   "cell_type": "code",
   "execution_count": null,
   "metadata": {},
   "outputs": [],
   "source": []
  }
 ],
 "metadata": {
  "kernelspec": {
   "display_name": "Julia 1.3.0",
   "language": "julia",
   "name": "julia-1.3"
  },
  "language_info": {
   "file_extension": ".jl",
   "mimetype": "application/julia",
   "name": "julia",
   "version": "1.3.0"
  }
 },
 "nbformat": 4,
 "nbformat_minor": 2
}
